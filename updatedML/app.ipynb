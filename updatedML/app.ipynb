{
 "cells": [
  {
   "cell_type": "code",
   "execution_count": 7,
   "metadata": {},
   "outputs": [],
   "source": [
    "from inspect import Traceback\n",
    "import pickle\n",
    "from flask import Flask, request, jsonify\n",
    "import cv2\n",
    "import imutils \n",
    "import os\n",
    "import pandas as pd\n",
    "\n",
    "app = Flask(__name__)\n",
    "\n",
    "def detectUsingHog(img0):\n",
    "    hog = cv2.HOGDescriptor() \n",
    "    hog.setSVMDetector(cv2.HOGDescriptor_getDefaultPeopleDetector()) \n",
    "    img = cv2.imread(img0)\n",
    "    img = imutils.resize(img, \n",
    "                    width=min(500, img.shape[1]))\n",
    "    # Detecting all humans \n",
    "    (humans, _) = hog.detectMultiScale(img,  \n",
    "                                    winStride=(5, 5), \n",
    "                                    padding=(3, 3), \n",
    "                                    scale=1.21)\n",
    "    if len(humans) > 0:\n",
    "        return True\n",
    "    else:\n",
    "        return False\n",
    "\n",
    "def detector(img,xml_path):\n",
    "    detect = cv2.CascadeClassifier(xml_path)\n",
    "    found = detect.detectMultiScale(\n",
    "        img,\n",
    "        scaleFactor=1.1,\n",
    "        minNeighbors=5,\n",
    "        minSize=(0, 0),\n",
    "        maxSize=(500,500),\n",
    "        flags = cv2.CASCADE_SCALE_IMAGE\n",
    "    )\n",
    "    if len(found) != 0:\n",
    "        return True\n",
    "    else:\n",
    "        return False\n",
    "\n",
    "def detectUsingHaarcascade (img0):\n",
    "    img = cv2.imread(img0)\n",
    "    assert not isinstance(img,type(None)), 'image not found'\n",
    "    img_gray = cv2.cvtColor(img, cv2.COLOR_BGR2GRAY)\n",
    "    if detector(img_gray,'haarcascade_frontalface_default.xml') or detector(img_gray,'haarcascade_profileface.xml') or detector(img_gray,'haarcascade_fullbody.xml') or detector(img_gray,'haarcascade_upperbody.xml') or detector(img_gray,'haarcascade_lowerbody.xml'):\n",
    "        return True\n",
    "    else:\n",
    "        return False       \n",
    "\n",
    "@app.route('/peakpredict', methods=['GET'])\n",
    "def peakpredict():\n",
    "\n",
    "    args = request.args\n",
    "    week = args.get('week')\n",
    "    volume = args.get('volume')\n",
    "\n",
    "    peak = {'week_number': week,'previous_week_booking':volume}\n",
    "    df =  pd.DataFrame([peak])\n",
    "\n",
    "    prediction = (model.predict(df)) \n",
    "\n",
    "    if (prediction==1):\n",
    "        return {\"result\": \"TRUE\"}\n",
    "    else:\n",
    "        return {\"result\": \"FALSE\"}\n",
    "\n",
    "@app.route('/hogpredict', methods=['GET'])\n",
    "def predict():\n",
    "    \n",
    "    filename = request.args.get(\"filename\")\n",
    "    filepath = \"C:\\\\VMS\\\\img\\\\\" + filename\n",
    "    print (filepath)\n",
    "\n",
    "    if detectUsingHaarcascade (filepath) or detectUsingHog(filepath):\n",
    "        return {\"result\": \"TRUE\"}\n",
    "    else:\n",
    "        return {\"result\": \"FALSE\"}\n",
    "\n",
    "    \n",
    "\n",
    "    #final_features = [np.array(int_features)]\n",
    "    #prediction = model.predict(final_features)\n",
    "\n",
    "\n",
    "    # output = round(prediction[0],2)\n",
    "    #return \"OK\", 200\n",
    "\n"
   ]
  },
  {
   "cell_type": "code",
   "execution_count": 8,
   "metadata": {},
   "outputs": [
    {
     "name": "stdout",
     "output_type": "stream",
     "text": [
      "Model loaded\n",
      "Model column loaded\n",
      " * Serving Flask app '__main__' (lazy loading)\n",
      " * Environment: production\n",
      "\u001b[31m   WARNING: This is a development server. Do not use it in a production deployment.\u001b[0m\n",
      "\u001b[2m   Use a production WSGI server instead.\u001b[0m\n",
      " * Debug mode: on\n"
     ]
    },
    {
     "name": "stderr",
     "output_type": "stream",
     "text": [
      " * Running on http://127.0.0.1:5000/ (Press CTRL+C to quit)\n"
     ]
    }
   ],
   "source": [
    "if __name__ == \"__main__\":\n",
    "\n",
    "    model=pickle.load(open(\"peak_model.pkl\", \"rb\"))\n",
    "    print ('Model loaded')\n",
    "    # model_column = ['week_number', 'previous_week_booking']\n",
    "    print ('Model column loaded')\n",
    "\n",
    "    app.run(port=5000,debug=True, use_reloader=False)"
   ]
  }
 ],
 "metadata": {
  "kernelspec": {
   "display_name": "Python 3.8.13 ('py3_vEnv')",
   "language": "python",
   "name": "python3"
  },
  "language_info": {
   "codemirror_mode": {
    "name": "ipython",
    "version": 3
   },
   "file_extension": ".py",
   "mimetype": "text/x-python",
   "name": "python",
   "nbconvert_exporter": "python",
   "pygments_lexer": "ipython3",
   "version": "3.8.13"
  },
  "orig_nbformat": 4,
  "vscode": {
   "interpreter": {
    "hash": "6ff85e149840ad8ca1f0f5fb4d69a98597580b9384a744dc3f9fe709c01273a8"
   }
  }
 },
 "nbformat": 4,
 "nbformat_minor": 2
}
