{
 "cells": [
  {
   "cell_type": "code",
   "execution_count": 1,
   "metadata": {},
   "outputs": [],
   "source": [
    "import cv2 \n",
    "import imutils \n",
    "import glob\n",
    "from PIL import Image\n",
    "   "
   ]
  },
  {
   "cell_type": "code",
   "execution_count": 2,
   "metadata": {},
   "outputs": [],
   "source": [
    "def detectUsingHog(str):\n",
    "    count_array = 0\n",
    "    hog = cv2.HOGDescriptor() \n",
    "    hog.setSVMDetector(cv2.HOGDescriptor_getDefaultPeopleDetector()) \n",
    "    for img in glob.glob(f'{str}/*'):\n",
    "        img1 = Image.open(img)\n",
    "        img0 = cv2.imread(img)\n",
    "        img0 = imutils.resize(img0, \n",
    "                       width=min(500, img0.shape[1]))\n",
    "        # Detecting all humans \n",
    "        (humans, _) = hog.detectMultiScale(img0,  \n",
    "                                    winStride=(5, 5), \n",
    "                                    padding=(3, 3), \n",
    "                                    scale=1.21)\n",
    "        if len(humans) > 0:\n",
    "            count_array += 1\n",
    "    return count_array\n"
   ]
  },
  {
   "cell_type": "code",
   "execution_count": 3,
   "metadata": {},
   "outputs": [],
   "source": [
    "from operator import truediv\n",
    "\n",
    "\n",
    "def detector(img,xml_path):\n",
    "    detect = cv2.CascadeClassifier(xml_path)\n",
    "    found = detect.detectMultiScale(\n",
    "        img,\n",
    "        scaleFactor=1.1,\n",
    "        minNeighbors=5,\n",
    "        minSize=(0, 0),\n",
    "        maxSize=(500,500),\n",
    "        flags = cv2.CASCADE_SCALE_IMAGE\n",
    "    )\n",
    "    if len(found) != 0:\n",
    "        return True\n",
    "    else:\n",
    "        return False\n"
   ]
  },
  {
   "cell_type": "code",
   "execution_count": 4,
   "metadata": {},
   "outputs": [],
   "source": [
    "import fnmatch\n",
    "def human_array(file):\n",
    "    array = [0, 0]\n",
    "    if fnmatch.fnmatch(file, '*people*.jpg'):\n",
    "        array[0] = 1\n",
    "    if fnmatch.fnmatch(file, '*th*.jpg'):\n",
    "        array[1] = 1\n",
    "    return array"
   ]
  },
  {
   "cell_type": "code",
   "execution_count": 5,
   "metadata": {},
   "outputs": [],
   "source": [
    "def detectUsingHaarcascade (str):\n",
    "    count_array = []\n",
    "    for file in glob.glob(f'{str}/*'):\n",
    "        count_array.append(human_array(file))\n",
    "    count = 0\n",
    "    class_dict = {0:\"detected\"}\n",
    "    count_array_sum = [sum(x) for x in zip(*count_array)]\n",
    "    limit = max(count_array_sum)\n",
    "    #for i in range(1):\n",
    "        #while count_array_sum[i]<limit:\n",
    "    for img0 in glob.glob(f'{str}/*'):\n",
    "        img1 = Image.open(img0).convert(\"RGB\")\n",
    "        img = cv2.imread(img0)\n",
    "        img_gray = cv2.cvtColor(img, cv2.COLOR_BGR2GRAY)\n",
    "        if detector(img_gray,'haarcascade_frontalface_default.xml') or  detector(img_gray,'haarcascade_profileface.xml') or detector(img_gray,'haarcascade_fullbody.xml') or detector(img_gray,'haarcascade_upperbody.xml') or detector(img_gray,'haarcascade_lowerbody.xml'):\n",
    "                    #img1.save(f\"{str}/{class_dict[i]}__{count_array_sum[i]}.jpg\")\n",
    "                    #count_array_sum[i] += 1\n",
    "            count += 1\n",
    "                    #if count_array_sum[i] == limit:\n",
    "                        #break\n",
    "    return count       \n",
    "\n",
    "\n"
   ]
  },
  {
   "cell_type": "code",
   "execution_count": 6,
   "metadata": {},
   "outputs": [
    {
     "name": "stdout",
     "output_type": "stream",
     "text": [
      "2\n"
     ]
    }
   ],
   "source": [
    "print (detectUsingHog('test'))"
   ]
  },
  {
   "cell_type": "code",
   "execution_count": 7,
   "metadata": {},
   "outputs": [
    {
     "name": "stdout",
     "output_type": "stream",
     "text": [
      "26\n"
     ]
    }
   ],
   "source": [
    "print (detectUsingHog('train'))"
   ]
  },
  {
   "cell_type": "code",
   "execution_count": 8,
   "metadata": {},
   "outputs": [
    {
     "name": "stdout",
     "output_type": "stream",
     "text": [
      "16\n"
     ]
    }
   ],
   "source": [
    "print (detectUsingHaarcascade('test'))"
   ]
  },
  {
   "cell_type": "code",
   "execution_count": 9,
   "metadata": {},
   "outputs": [
    {
     "name": "stdout",
     "output_type": "stream",
     "text": [
      "99\n"
     ]
    }
   ],
   "source": [
    "print (detectUsingHaarcascade('train'))"
   ]
  },
  {
   "cell_type": "code",
   "execution_count": 15,
   "metadata": {},
   "outputs": [
    {
     "name": "stdout",
     "output_type": "stream",
     "text": [
      "2\n"
     ]
    }
   ],
   "source": [
    "print (detectUsingHaarcascade('live'))"
   ]
  },
  {
   "cell_type": "code",
   "execution_count": 16,
   "metadata": {},
   "outputs": [
    {
     "name": "stdout",
     "output_type": "stream",
     "text": [
      "0\n"
     ]
    }
   ],
   "source": [
    "print (detectUsingHog('live'))"
   ]
  },
  {
   "cell_type": "code",
   "execution_count": 12,
   "metadata": {},
   "outputs": [
    {
     "name": "stdout",
     "output_type": "stream",
     "text": [
      ".ext\n",
      "file.ext\n"
     ]
    }
   ],
   "source": [
    "import os\n",
    "\n",
    "# file name with extension\n",
    "file_name = os.path.basename('file.ext')\n",
    "\n",
    "# file name without extension\n",
    "print(os.path.splitext(file_name)[1])\n",
    "\n",
    "print(os.path.basename(file_name))"
   ]
  },
  {
   "cell_type": "markdown",
   "metadata": {},
   "source": []
  }
 ],
 "metadata": {
  "kernelspec": {
   "display_name": "Python 3.8.13 ('py3_vEnv')",
   "language": "python",
   "name": "python3"
  },
  "language_info": {
   "codemirror_mode": {
    "name": "ipython",
    "version": 3
   },
   "file_extension": ".py",
   "mimetype": "text/x-python",
   "name": "python",
   "nbconvert_exporter": "python",
   "pygments_lexer": "ipython3",
   "version": "3.8.13"
  },
  "orig_nbformat": 4,
  "vscode": {
   "interpreter": {
    "hash": "6ff85e149840ad8ca1f0f5fb4d69a98597580b9384a744dc3f9fe709c01273a8"
   }
  }
 },
 "nbformat": 4,
 "nbformat_minor": 2
}
